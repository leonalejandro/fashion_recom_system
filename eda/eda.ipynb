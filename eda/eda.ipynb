{
 "cells": [
  {
   "cell_type": "markdown",
   "metadata": {},
   "source": [
    "# Análisis exploratorio de datos"
   ]
  },
  {
   "cell_type": "code",
   "execution_count": 1,
   "metadata": {},
   "outputs": [],
   "source": [
    "import sqlite3\n",
    "import pandas as pd\n",
    "import importlib\n",
    "import matplotlib.pyplot as plt\n",
    "import utils\n",
    "import constants\n",
    "importlib.reload(utils)\n",
    "importlib.reload(constants)\n",
    "\n",
    "pd.set_option(\"display.max_colwidth\", None)  # Muestra todo el contenido de las columnas"
   ]
  },
  {
   "cell_type": "markdown",
   "metadata": {},
   "source": [
    "## Lectura de la base de datos:\n",
    "La Ruta del archivo .db (podría ser una conexión con una base de datos o un datalake)"
   ]
  },
  {
   "cell_type": "code",
   "execution_count": 2,
   "metadata": {},
   "outputs": [],
   "source": [
    "# Conexion\n",
    "conn = sqlite3.connect(constants.DB_PATH)\n",
    "cursor = conn.cursor()\n",
    "\n",
    "# Cargue de datos en dataframes:\n",
    "df_reviews = pd.read_sql_query(constants.QUERY_REVIEWS, conn)\n",
    "df_products = pd.read_sql_query(constants.QUERY_PRODUCTS, conn)\n",
    "\n",
    "# Cierre de conexión:\n",
    "conn.close()"
   ]
  },
  {
   "cell_type": "code",
   "execution_count": 3,
   "metadata": {},
   "outputs": [
    {
     "name": "stdout",
     "output_type": "stream",
     "text": [
      "Tamaño de tabla reviews: 2751400\n",
      "Tamaño de tabla products: 908258\n"
     ]
    }
   ],
   "source": [
    "total_df_reviews = len(df_reviews)\n",
    "total_df_products = len(df_products)\n",
    "\n",
    "print(constants.MSJ_TAM_REVIEWS, total_df_reviews)\n",
    "print(constants.MSJ_TAM_PRODUCTS, total_df_products)"
   ]
  },
  {
   "cell_type": "markdown",
   "metadata": {},
   "source": [
    "## Análisis reviews"
   ]
  },
  {
   "cell_type": "markdown",
   "metadata": {},
   "source": [
    "1) Obtener cantidad de nulos en cada uno de las tablas."
   ]
  },
  {
   "cell_type": "code",
   "execution_count": 4,
   "metadata": {},
   "outputs": [
    {
     "name": "stdout",
     "output_type": "stream",
     "text": [
      "               Field  Nulls_Count  Nulls_Perc\n",
      "0       review_score       125084    4.546195\n",
      "1              title            0    0.000000\n",
      "2     review_content        44040    1.600640\n",
      "3             images        44132    1.603983\n",
      "4         product_id       125340    4.555499\n",
      "5  parent_product_id       125340    4.555499\n",
      "6        customer_id       125171    4.549357\n",
      "7        review_date        43837    1.593262\n",
      "8            upvotes        43947    1.597260\n",
      "9  purchase_verified        43654    1.586610\n"
     ]
    }
   ],
   "source": [
    "df_null_reviews = pd.DataFrame({\n",
    "    constants.COL_FIELD: df_reviews.columns,\n",
    "    constants.COL_NULLS_COUNT: df_reviews.isnull().sum().values,\n",
    "    constants.COL_NULLS_PERC: (df_reviews.isnull().sum().values / total_df_reviews) * 100\n",
    "})\n",
    "\n",
    "print(df_null_reviews)"
   ]
  },
  {
   "cell_type": "markdown",
   "metadata": {},
   "source": [
    "2) Se eliminan datos de acuerdo a los siguientes supuestos:\n",
    "\n",
    "* review_score: Se eliminan los valores en nulo, ya que es importante el puntaje en un sistema de recomendación, para realizar medidas de rendimiento, además que es un candidado para variable target.\n",
    "\n",
    "* title: se elimina característica, con el supuesto de que en la reseña viene la información contenida en el título.\n",
    "\n",
    "* review_content: es importante la reseña que da el usuario, ya que es una información valiosa para determinar el gusto o disgusto por el producto, por tanto se elimnan los registros con valores en nulo.\n",
    "\n",
    "* images: para las primeras versiones de este proyecto no se tendrá en cuenta las fotos o imágenes que los usuarios usen en las reseñas, ya que por temas de alcance no es posible su uso, en proyectos futuros podría usarse esta variable, ya que tiene pocos nulos.\n",
    "\n",
    "* product_id, parent_product_id: es necesario tener este valor para poder cruzarlo con la información del producto como tal. Por tanto, se eliminan los registros que no tengan este valor.\n",
    "\n",
    "* customer_id: dependiendo del algoritmo que se quiera usar es necesario tener el usuario. Por tanto, se eliminan los registros que son nulos.\n",
    "\n",
    "* review_date: dependiendo del algoritmo que se quiera usar, es necesario tener la fecha de la reseña. Por tanto, se eliminan los registros que son nulos.\n",
    "\n",
    "* upvotes: Puede ser interesante para el análisis. Se eliminan los registros que tienen null en este campo.\n",
    "\n",
    "* purchase_verified: Puede ser interesante para el análisis. Se eliminan los registros que tienen null en este campo.\n",
    "\n",
    "\n",
    "NOTA: dado que el porcentaje de nulos en todos los campos es bajo y dado que se tienen muchos datos para realizar el modelo, se toman las decisiones antes mencionadas."
   ]
  },
  {
   "cell_type": "code",
   "execution_count": 5,
   "metadata": {},
   "outputs": [],
   "source": [
    "# Eliminar filas donde 'review_score' sea nulo\n",
    "df_reviews = df_reviews.dropna(subset=[constants.COL_REVIEW_SCORE])\n",
    "\n",
    "# Eliminar filas donde 'review_content' sea nulo\n",
    "df_reviews = df_reviews.dropna(subset=[constants.COL_REVIEW_CONTENT])\n",
    "\n",
    "# Eliminar la columna 'images', 'title'\n",
    "df_reviews = df_reviews.drop(columns=[constants.COL_IMAGES, constants.COL_TITLE], errors=constants.OPT_IGNORE)\n",
    "\n",
    "# Eliminar filas donde 'product_id' o 'parent_product_id' sean nulos\n",
    "df_reviews = df_reviews.dropna(subset=[constants.COL_PRODUCT_ID, constants.COL_PARENT_PRODUCT_ID])\n",
    "\n",
    "# Eliminar filas donde 'customer_id' sea nulo\n",
    "df_reviews = df_reviews.dropna(subset=[constants.COL_CUSTOMER_ID])\n",
    "\n",
    "# Eliminar filas donde 'review_date' sea nulo\n",
    "df_reviews = df_reviews.dropna(subset=[constants.COL_REVIEW_DATE])\n",
    "\n",
    "# Eliminar filas donde 'upvotes' sea nulo\n",
    "df_reviews = df_reviews.dropna(subset=[constants.COL_UPVOTES])\n",
    "\n",
    "# Eliminar filas donde 'purchase_verified' sea nulo\n",
    "df_reviews = df_reviews.dropna(subset=[constants.COL_PURCHASE_VERIFIED])\n"
   ]
  },
  {
   "cell_type": "markdown",
   "metadata": {},
   "source": [
    "## Análisis Products"
   ]
  },
  {
   "cell_type": "markdown",
   "metadata": {},
   "source": [
    "1) Obtener cantidad de nulos en cada uno de las tablas."
   ]
  },
  {
   "cell_type": "code",
   "execution_count": 13,
   "metadata": {},
   "outputs": [
    {
     "name": "stdout",
     "output_type": "stream",
     "text": [
      "                Field  Nulls_Count  Nulls_Perc\n",
      "0       product_title            0    0.000000\n",
      "1      average_rating            0    0.000000\n",
      "2        rating_count            0    0.000000\n",
      "3            features            0    0.000000\n",
      "4         description            0    0.000000\n",
      "5               price       853001   93.916156\n",
      "6              images            0    0.000000\n",
      "7          store_name        29526    3.250838\n",
      "8          categories            0    0.000000\n",
      "9             details            0    0.000000\n",
      "10  parent_product_id        42735    4.705161\n",
      "11    bought_together            0    0.000000\n"
     ]
    }
   ],
   "source": [
    "df_null_products = pd.DataFrame({\n",
    "    constants.COL_FIELD: df_products.columns,\n",
    "    constants.COL_NULLS_COUNT: df_products.isnull().sum().values,\n",
    "    constants.COL_NULLS_PERC: (df_products.isnull().sum().values / total_df_products) * 100\n",
    "})\n",
    "\n",
    "print(df_null_products)"
   ]
  },
  {
   "cell_type": "markdown",
   "metadata": {},
   "source": [
    "2) Se validan los valores únicos en algunas columnas:"
   ]
  },
  {
   "cell_type": "code",
   "execution_count": 6,
   "metadata": {},
   "outputs": [
    {
     "name": "stdout",
     "output_type": "stream",
     "text": [
      "Unique values in 'bought_together': ['null']\n",
      "Unique values in 'categories': ['[]']\n"
     ]
    }
   ],
   "source": [
    "val_cols = [constants.COL_BOUGHT_TOGETHER, constants.COL_CATEGORIES]\n",
    "for col in val_cols:\n",
    "    print(f\"Unique values in '{col}': {df_products[col].unique()}\")"
   ]
  },
  {
   "cell_type": "markdown",
   "metadata": {},
   "source": [
    "3) Se eliminan datos de acuerdo a los siguientes supuestos:\n",
    "\n",
    "* price: tiene 93 % de valores nulos, por tanto se elimina esta característica.\n",
    "\n",
    "* bought_together, categories: no tienen varianza, por tanto no sirven para el modelo. Se eliminan ambas características.\n"
   ]
  },
  {
   "cell_type": "code",
   "execution_count": 7,
   "metadata": {},
   "outputs": [],
   "source": [
    "# Eliminar la columna 'price', 'bought_together', 'categories'\n",
    "df_products = df_products.drop(columns=[constants.COL_PRICE, constants.COL_BOUGHT_TOGETHER, constants.COL_CATEGORIES], errors=constants.OPT_IGNORE).drop_duplicates(constants.COL_PARENT_PRODUCT_ID)"
   ]
  },
  {
   "cell_type": "markdown",
   "metadata": {},
   "source": [
    "# - PREPARACIÓN DE DATOS PARA LOS MODELOS - "
   ]
  },
  {
   "cell_type": "markdown",
   "metadata": {},
   "source": [
    "* Dadas las restricciones de tiempo y procesamiento para la iteración 1 del proyecto, se obtiene una muestra de n = 1000 productos para el modelo, inicialmente se busca hacer recomendaciones basadas en imagenes del producto. Para evitar sesgos se busca hacer una estratificación basada en el rating promedio de los productos."
   ]
  },
  {
   "cell_type": "code",
   "execution_count": 8,
   "metadata": {},
   "outputs": [
    {
     "name": "stdout",
     "output_type": "stream",
     "text": [
      "Tamaño sampled: 100\n"
     ]
    }
   ],
   "source": [
    "df_products_sampled = utils.sample_top_rated_products(df= df_products, n= constants.PRODUCTS_QTY)\n",
    "print(constants.MSJ_TAM_SAMPLED, len(df_products_sampled))"
   ]
  },
  {
   "cell_type": "code",
   "execution_count": 9,
   "metadata": {},
   "outputs": [
    {
     "data": {
      "text/plain": [
       "<Axes: >"
      ]
     },
     "execution_count": 9,
     "metadata": {},
     "output_type": "execute_result"
    },
    {
     "data": {
      "image/png": "[encoded data removed]",
      "text/plain": [
       "<Figure size 640x480 with 1 Axes>"
      ]
     },
     "metadata": {},
     "output_type": "display_data"
    }
   ],
   "source": [
    "df_products_sampled[constants.COL_AVERAGE_RATING].hist()"
   ]
  },
  {
   "cell_type": "markdown",
   "metadata": {},
   "source": [
    "Con los datos obtenidos en la muestra de 1000 productos, se obtiene solamente la primera imagen (large), la cual se descargará para realizar el modelo."
   ]
  },
  {
   "cell_type": "code",
   "execution_count": 13,
   "metadata": {},
   "outputs": [
    {
     "name": "stdout",
     "output_type": "stream",
     "text": [
      "Imagen guardada: B0BXGTPWK8.jpg\n",
      "Imagen guardada: B09J15X7TD.jpg\n",
      "Imagen guardada: B0BGZKDB2R.jpg\n",
      "Imagen guardada: B0BMPQSYZ6.jpg\n",
      "Imagen guardada: B08KPWYH7B.jpg\n",
      "Imagen guardada: B09TXZHKLG.jpg\n",
      "Imagen guardada: B012VSGNPY.jpg\n",
      "Imagen guardada: B07VSGT2KB.jpg\n",
      "Imagen guardada: B0BGPM4ZSG.jpg\n",
      "Imagen guardada: B08945DD7K.jpg\n",
      "Imagen guardada: B08ZYBS2SK.jpg\n",
      "Imagen guardada: B071CJSMQ2.jpg\n",
      "Imagen guardada: B07W18KVX3.jpg\n",
      "Imagen guardada: B09W1JJ3FV.jpg\n",
      "Imagen guardada: B097RFTKJP.jpg\n",
      "Imagen guardada: B09MF2G7JX.jpg\n",
      "Imagen guardada: B082XSTKMJ.jpg\n",
      "Imagen guardada: B081XYDBL2.jpg\n",
      "Imagen guardada: B01DQCBUJS.jpg\n",
      "Imagen guardada: B08BFQ17HR.jpg\n",
      "Imagen guardada: B08CR5HFC6.jpg\n",
      "Imagen guardada: B01LZPE9OF.jpg\n",
      "Imagen guardada: B08CD481GL.jpg\n",
      "Imagen guardada: B07VT55KHJ.jpg\n",
      "Imagen guardada: B08GQ1W3RT.jpg\n",
      "Imagen guardada: B07T33KN4N.jpg\n",
      "Imagen guardada: B0159B2TEO.jpg\n",
      "Imagen guardada: B07YFSDMF4.jpg\n",
      "Imagen guardada: B08HN3KWBL.jpg\n",
      "Imagen guardada: B0746G6B54.jpg\n",
      "Imagen guardada: B08ZYH8SJF.jpg\n",
      "Imagen guardada: B01MDNKB6W.jpg\n",
      "Imagen guardada: B09MG63YLY.jpg\n",
      "Imagen guardada: B09Z7QK396.jpg\n",
      "Imagen guardada: B01FHC0DLG.jpg\n",
      "Imagen guardada: B09VC1M2HX.jpg\n",
      "Imagen guardada: B07D6JY5T3.jpg\n",
      "Imagen guardada: B081XYHLDP.jpg\n",
      "Imagen guardada: B07VSGSG1X.jpg\n",
      "Imagen guardada: B09Z7V8Y46.jpg\n",
      "Imagen guardada: B07VVX4X39.jpg\n",
      "Imagen guardada: B089K67ZGW.jpg\n",
      "Imagen guardada: B01EUH6KBQ.jpg\n",
      "Imagen guardada: B09634PXH9.jpg\n",
      "Imagen guardada: B01MCXV1RC.jpg\n",
      "Imagen guardada: B08X4MSBC4.jpg\n",
      "Imagen guardada: B09H6MXJ71.jpg\n",
      "Imagen guardada: B08NTHMVK1.jpg\n",
      "Imagen guardada: B08LDLQH4Q.jpg\n",
      "Imagen guardada: B08NTHMRFC.jpg\n",
      "Imagen guardada: B08837C8BY.jpg\n",
      "Imagen guardada: B081SV1DXC.jpg\n",
      "Imagen guardada: B08JGNFTPR.jpg\n",
      "Imagen guardada: B081XYS1ZZ.jpg\n",
      "Imagen guardada: B083DG2GLK.jpg\n",
      "Imagen guardada: B087CM4NWZ.jpg\n",
      "Imagen guardada: B07WJGFHSP.jpg\n",
      "Imagen guardada: B08CNJ6DGD.jpg\n",
      "Imagen guardada: B08H7PGXK9.jpg\n",
      "Imagen guardada: B09J17LQ17.jpg\n",
      "Imagen guardada: B0878T7GPN.jpg\n",
      "Imagen guardada: B09M3VGVBM.jpg\n",
      "Imagen guardada: B07DY3H2XX.jpg\n",
      "Imagen guardada: B07QVPSSRX.jpg\n",
      "Imagen guardada: B09GXFC7YW.jpg\n",
      "Imagen guardada: B09M6X79V9.jpg\n",
      "Imagen guardada: B09Y1Q4DQH.jpg\n",
      "Imagen guardada: B07VVW4QWJ.jpg\n",
      "Imagen guardada: B0BHSRP3CN.jpg\n",
      "Imagen guardada: B08H7N6LVM.jpg\n",
      "Imagen guardada: B09DPRTVG7.jpg\n",
      "Imagen guardada: B07VZ59H3C.jpg\n",
      "Imagen guardada: B07XBQVVC2.jpg\n",
      "Imagen guardada: B09W8N5SGD.jpg\n",
      "Imagen guardada: B09JFLL6LF.jpg\n",
      "Imagen guardada: B08DQK47B2.jpg\n",
      "Imagen guardada: B09KHSM7BB.jpg\n",
      "Imagen guardada: B09GJTN99F.jpg\n",
      "Imagen guardada: B07YFRBZWL.jpg\n",
      "Imagen guardada: B0BG5PWPN5.jpg\n",
      "Imagen guardada: B08WC5486P.jpg\n",
      "Imagen guardada: B07BM9GWG7.jpg\n",
      "Imagen guardada: B08XBTN397.jpg\n",
      "Descarga de imágenes completada.\n"
     ]
    }
   ],
   "source": [
    "# Crear la nueva columna\n",
    "df_products_sampled[constants.COL_IMAGE_1] = df_products_sampled[constants.COL_IMAGES].apply(utils.extract_first_large)\n",
    "\n",
    "# descargar la imagen y guardarla en datos.\n",
    "utils.download_images(df=df_products_sampled, save_path=constants.PATH_IMAGES)"
   ]
  },
  {
   "cell_type": "markdown",
   "metadata": {},
   "source": [
    "### Filtrado del dataframe de Reviews para tener en cuenta unicamente los productos que se han filtrado anteriormente:\n",
    "\n",
    "En esta primera version, y dado las restricciones de tiempo y procesamiento, solo se tiene en cuenta las reseñas dadas para los productos que se han filtrado."
   ]
  },
  {
   "cell_type": "code",
   "execution_count": 14,
   "metadata": {},
   "outputs": [],
   "source": [
    "df_reviews_filtered = utils.filter_dataframe_by_images (image_folder=constants.PATH_IMAGES, df=df_reviews)\n",
    "df_products_filtered = utils.filter_dataframe_by_images (image_folder=constants.PATH_IMAGES, df=df_products_sampled)"
   ]
  },
  {
   "cell_type": "code",
   "execution_count": 15,
   "metadata": {},
   "outputs": [
    {
     "name": "stdout",
     "output_type": "stream",
     "text": [
      "27176\n",
      "83\n"
     ]
    }
   ],
   "source": [
    "print(len(df_reviews_filtered))\n",
    "print(len(df_products_filtered))"
   ]
  },
  {
   "cell_type": "markdown",
   "metadata": {},
   "source": [
    "# - Se guardan los datos para empezar a realizar el modelo -"
   ]
  },
  {
   "cell_type": "code",
   "execution_count": 16,
   "metadata": {},
   "outputs": [],
   "source": [
    "df_products_filtered.to_csv(constants.PATH_DF_PRODUCTS_FILTERED, index=False)\n",
    "df_reviews_filtered.to_csv(constants.PATH_DF_REVIEWS_FILTERED, index=False)"
   ]
  }
 ],
 "metadata": {
  "kernelspec": {
   "display_name": "envPython11",
   "language": "python",
   "name": "python3"
  },
  "language_info": {
   "codemirror_mode": {
    "name": "ipython",
    "version": 3
   },
   "file_extension": ".py",
   "mimetype": "text/x-python",
   "name": "python",
   "nbconvert_exporter": "python",
   "pygments_lexer": "ipython3",
   "version": "3.11.0"
  }
 },
 "nbformat": 4,
 "nbformat_minor": 2
}
